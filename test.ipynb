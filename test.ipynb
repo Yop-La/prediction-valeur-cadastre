{
 "cells": [
  {
   "cell_type": "code",
   "execution_count": 1,
   "metadata": {},
   "outputs": [],
   "source": [
    "import pandas as pd"
   ]
  },
  {
   "cell_type": "code",
   "execution_count": 4,
   "metadata": {},
   "outputs": [],
   "source": [
    "annee = str(2015)"
   ]
  },
  {
   "cell_type": "code",
   "execution_count": 30,
   "metadata": {},
   "outputs": [],
   "source": [
    "    pop = pd.read_csv(\n",
    "        '/home/yopla/Dropbox/asi/stage/prediction_prix_immobilier/data/population/pop_commune_' + annee + '.csv',\n",
    "        sep=',', dtype={'Code commune': str})"
   ]
  },
  {
   "cell_type": "code",
   "execution_count": 31,
   "metadata": {},
   "outputs": [],
   "source": [
    "    pop.columns = ['code_region', 'nom_region', 'code_departement',\n",
    "                   'code_arrondissement', 'code_canton', 'code_commune',\n",
    "                   'nom_commune', 'population_municipale',\n",
    "                   'population_comptee_a_part', 'population_totale']"
   ]
  },
  {
   "cell_type": "code",
   "execution_count": 32,
   "metadata": {},
   "outputs": [],
   "source": [
    "    pop[\"code_commune_complet\"] = pop[\"code_departement\"] + pop[\"code_commune\"].astype(str)\n"
   ]
  },
  {
   "cell_type": "code",
   "execution_count": 33,
   "metadata": {},
   "outputs": [],
   "source": [
    " cols = ['code_commune_complet', 'population_totale']"
   ]
  },
  {
   "cell_type": "code",
   "execution_count": 34,
   "metadata": {},
   "outputs": [],
   "source": [
    "    pop = pop[cols]\n"
   ]
  },
  {
   "cell_type": "code",
   "execution_count": 35,
   "metadata": {},
   "outputs": [
    {
     "data": {
      "text/html": [
       "<div>\n",
       "<style scoped>\n",
       "    .dataframe tbody tr th:only-of-type {\n",
       "        vertical-align: middle;\n",
       "    }\n",
       "\n",
       "    .dataframe tbody tr th {\n",
       "        vertical-align: top;\n",
       "    }\n",
       "\n",
       "    .dataframe thead th {\n",
       "        text-align: right;\n",
       "    }\n",
       "</style>\n",
       "<table border=\"1\" class=\"dataframe\">\n",
       "  <thead>\n",
       "    <tr style=\"text-align: right;\">\n",
       "      <th></th>\n",
       "      <th>code_commune_complet</th>\n",
       "      <th>population_totale</th>\n",
       "    </tr>\n",
       "  </thead>\n",
       "  <tbody>\n",
       "    <tr>\n",
       "      <th>0</th>\n",
       "      <td>01001</td>\n",
       "      <td>785</td>\n",
       "    </tr>\n",
       "    <tr>\n",
       "      <th>1</th>\n",
       "      <td>01002</td>\n",
       "      <td>242</td>\n",
       "    </tr>\n",
       "    <tr>\n",
       "      <th>2</th>\n",
       "      <td>01004</td>\n",
       "      <td>14631</td>\n",
       "    </tr>\n",
       "    <tr>\n",
       "      <th>3</th>\n",
       "      <td>01005</td>\n",
       "      <td>1652</td>\n",
       "    </tr>\n",
       "    <tr>\n",
       "      <th>4</th>\n",
       "      <td>01006</td>\n",
       "      <td>115</td>\n",
       "    </tr>\n",
       "  </tbody>\n",
       "</table>\n",
       "</div>"
      ],
      "text/plain": [
       "  code_commune_complet  population_totale\n",
       "0                01001                785\n",
       "1                01002                242\n",
       "2                01004              14631\n",
       "3                01005               1652\n",
       "4                01006                115"
      ]
     },
     "execution_count": 35,
     "metadata": {},
     "output_type": "execute_result"
    }
   ],
   "source": [
    "pop.head()"
   ]
  },
  {
   "cell_type": "code",
   "execution_count": 14,
   "metadata": {},
   "outputs": [],
   "source": [
    "cols = ['COM', 'P14_POP', 'P14_POP0002', 'P14_POP0305', 'P14_POP0610',\n",
    "'P14_POP1117', 'P14_POP1824', 'P14_POP2539', 'P14_POP4054',\n",
    "            'P14_POP5564', 'P14_POP6579', 'P14_POP80P', 'P14_POP0014',\n",
    "            'P14_POP1529', 'P14_POP3044', 'P14_POP4559', 'P14_POP6074',\n",
    "            'P14_POP75P', 'P14_POP0019', 'P14_POP2064', 'P14_POP65P',\n",
    "            'P14_POPH', 'P14_H0014', 'P14_H1529', 'P14_H3044', 'P14_H4559',\n",
    "            'P14_H6074', 'P14_H75P', 'P14_H0019', 'P14_H2064', 'P14_H65P',\n",
    "            'P14_POPF', 'P14_F0014', 'P14_F1529', 'P14_F3044', 'P14_F4559',\n",
    "            'P14_F6074', 'P14_F75P', 'P14_F0019', 'P14_F2064', 'P14_F65P',\n",
    "            'C14_POP15P', 'C14_POP15P_CS1', 'C14_POP15P_CS2', 'C14_POP15P_CS3',\n",
    "            'C14_POP15P_CS4', 'C14_POP15P_CS5', 'C14_POP15P_CS6',\n",
    "            'C14_POP15P_CS7', 'C14_POP15P_CS8', 'C14_H15P', 'C14_H15P_CS1',\n",
    "            'C14_H15P_CS2', 'C14_H15P_CS3', 'C14_H15P_CS4', 'C14_H15P_CS5',\n",
    "            'C14_H15P_CS6', 'C14_H15P_CS7', 'C14_H15P_CS8', 'C14_F15P',\n",
    "            'C14_F15P_CS1', 'C14_F15P_CS2', 'C14_F15P_CS3', 'C14_F15P_CS4',\n",
    "            'C14_F15P_CS5', 'C14_F15P_CS6', 'C14_F15P_CS7', 'C14_F15P_CS8',\n",
    "            'P14_POP_FR', 'P14_POP_ETR', 'P14_POP_IMM', 'P14_PMEN',\n",
    "            'P14_PHORMEN']\n",
    "\n"
   ]
  },
  {
   "cell_type": "code",
   "execution_count": 19,
   "metadata": {},
   "outputs": [],
   "source": [
    "cols = map(lambda x : x.replace('C14','C'+end_annee).replace('P14','P'+end_annee),cols)"
   ]
  },
  {
   "cell_type": "code",
   "execution_count": 20,
   "metadata": {},
   "outputs": [],
   "source": [
    "pop = pop[cols]"
   ]
  },
  {
   "cell_type": "code",
   "execution_count": null,
   "metadata": {},
   "outputs": [],
   "source": []
  }
 ],
 "metadata": {
  "kernelspec": {
   "display_name": "Python 3",
   "language": "python",
   "name": "python3"
  },
  "language_info": {
   "codemirror_mode": {
    "name": "ipython",
    "version": 3
   },
   "file_extension": ".py",
   "mimetype": "text/x-python",
   "name": "python",
   "nbconvert_exporter": "python",
   "pygments_lexer": "ipython3",
   "version": "3.7.3"
  }
 },
 "nbformat": 4,
 "nbformat_minor": 2
}
