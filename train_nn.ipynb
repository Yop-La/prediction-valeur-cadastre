{
 "cells": [
  {
   "cell_type": "code",
   "execution_count": 1,
   "metadata": {},
   "outputs": [],
   "source": [
    "import pandas as pd\n",
    "import numpy as np"
   ]
  },
  {
   "cell_type": "code",
   "execution_count": 2,
   "metadata": {},
   "outputs": [],
   "source": [
    "immo = pd.read_csv('../../data/ml/train_immo_100.csv')"
   ]
  },
  {
   "cell_type": "code",
   "execution_count": 4,
   "metadata": {},
   "outputs": [
    {
     "data": {
      "text/html": [
       "<div>\n",
       "<style scoped>\n",
       "    .dataframe tbody tr th:only-of-type {\n",
       "        vertical-align: middle;\n",
       "    }\n",
       "\n",
       "    .dataframe tbody tr th {\n",
       "        vertical-align: top;\n",
       "    }\n",
       "\n",
       "    .dataframe thead th {\n",
       "        text-align: right;\n",
       "    }\n",
       "</style>\n",
       "<table border=\"1\" class=\"dataframe\">\n",
       "  <thead>\n",
       "    <tr style=\"text-align: right;\">\n",
       "      <th></th>\n",
       "      <th>id_bien</th>\n",
       "      <th>valeur</th>\n",
       "      <th>mois</th>\n",
       "      <th>valeur-1</th>\n",
       "      <th>valeur-2</th>\n",
       "      <th>valeur_diff-1-2</th>\n",
       "    </tr>\n",
       "  </thead>\n",
       "  <tbody>\n",
       "    <tr>\n",
       "      <th>0</th>\n",
       "      <td>01004_1_4</td>\n",
       "      <td>0.000000</td>\n",
       "      <td>3</td>\n",
       "      <td>215000.000000</td>\n",
       "      <td>239000.000000</td>\n",
       "      <td>-24000.000000</td>\n",
       "    </tr>\n",
       "    <tr>\n",
       "      <th>4750</th>\n",
       "      <td>01004_1_4</td>\n",
       "      <td>166590.000000</td>\n",
       "      <td>4</td>\n",
       "      <td>0.000000</td>\n",
       "      <td>215000.000000</td>\n",
       "      <td>-215000.000000</td>\n",
       "    </tr>\n",
       "    <tr>\n",
       "      <th>9500</th>\n",
       "      <td>01004_1_4</td>\n",
       "      <td>0.000000</td>\n",
       "      <td>5</td>\n",
       "      <td>166590.000000</td>\n",
       "      <td>0.000000</td>\n",
       "      <td>166590.000000</td>\n",
       "    </tr>\n",
       "    <tr>\n",
       "      <th>14250</th>\n",
       "      <td>01004_1_4</td>\n",
       "      <td>100500.000000</td>\n",
       "      <td>6</td>\n",
       "      <td>0.000000</td>\n",
       "      <td>166590.000000</td>\n",
       "      <td>-166590.000000</td>\n",
       "    </tr>\n",
       "    <tr>\n",
       "      <th>19000</th>\n",
       "      <td>01004_1_4</td>\n",
       "      <td>150000.000000</td>\n",
       "      <td>7</td>\n",
       "      <td>100500.000000</td>\n",
       "      <td>0.000000</td>\n",
       "      <td>100500.000000</td>\n",
       "    </tr>\n",
       "    <tr>\n",
       "      <th>23750</th>\n",
       "      <td>01004_1_4</td>\n",
       "      <td>177893.750000</td>\n",
       "      <td>8</td>\n",
       "      <td>150000.000000</td>\n",
       "      <td>100500.000000</td>\n",
       "      <td>49500.000000</td>\n",
       "    </tr>\n",
       "    <tr>\n",
       "      <th>28500</th>\n",
       "      <td>01004_1_4</td>\n",
       "      <td>188550.000000</td>\n",
       "      <td>9</td>\n",
       "      <td>177893.750000</td>\n",
       "      <td>150000.000000</td>\n",
       "      <td>27893.750000</td>\n",
       "    </tr>\n",
       "    <tr>\n",
       "      <th>33250</th>\n",
       "      <td>01004_1_4</td>\n",
       "      <td>200000.000000</td>\n",
       "      <td>10</td>\n",
       "      <td>188550.000000</td>\n",
       "      <td>177893.750000</td>\n",
       "      <td>10656.250000</td>\n",
       "    </tr>\n",
       "    <tr>\n",
       "      <th>38000</th>\n",
       "      <td>01004_1_4</td>\n",
       "      <td>193416.666667</td>\n",
       "      <td>11</td>\n",
       "      <td>200000.000000</td>\n",
       "      <td>188550.000000</td>\n",
       "      <td>11450.000000</td>\n",
       "    </tr>\n",
       "    <tr>\n",
       "      <th>42750</th>\n",
       "      <td>01004_1_4</td>\n",
       "      <td>102833.666667</td>\n",
       "      <td>12</td>\n",
       "      <td>193416.666667</td>\n",
       "      <td>200000.000000</td>\n",
       "      <td>-6583.333333</td>\n",
       "    </tr>\n",
       "    <tr>\n",
       "      <th>47500</th>\n",
       "      <td>01004_1_4</td>\n",
       "      <td>147562.500000</td>\n",
       "      <td>13</td>\n",
       "      <td>102833.666667</td>\n",
       "      <td>193416.666667</td>\n",
       "      <td>-90583.000000</td>\n",
       "    </tr>\n",
       "    <tr>\n",
       "      <th>52250</th>\n",
       "      <td>01004_1_4</td>\n",
       "      <td>151537.500000</td>\n",
       "      <td>14</td>\n",
       "      <td>147562.500000</td>\n",
       "      <td>102833.666667</td>\n",
       "      <td>44728.833333</td>\n",
       "    </tr>\n",
       "    <tr>\n",
       "      <th>57000</th>\n",
       "      <td>01004_1_4</td>\n",
       "      <td>188900.000000</td>\n",
       "      <td>15</td>\n",
       "      <td>151537.500000</td>\n",
       "      <td>147562.500000</td>\n",
       "      <td>3975.000000</td>\n",
       "    </tr>\n",
       "    <tr>\n",
       "      <th>61750</th>\n",
       "      <td>01004_1_4</td>\n",
       "      <td>192850.000000</td>\n",
       "      <td>16</td>\n",
       "      <td>188900.000000</td>\n",
       "      <td>151537.500000</td>\n",
       "      <td>37362.500000</td>\n",
       "    </tr>\n",
       "    <tr>\n",
       "      <th>66500</th>\n",
       "      <td>01004_1_4</td>\n",
       "      <td>180000.000000</td>\n",
       "      <td>17</td>\n",
       "      <td>192850.000000</td>\n",
       "      <td>188900.000000</td>\n",
       "      <td>3950.000000</td>\n",
       "    </tr>\n",
       "    <tr>\n",
       "      <th>71250</th>\n",
       "      <td>01004_1_4</td>\n",
       "      <td>295318.000000</td>\n",
       "      <td>18</td>\n",
       "      <td>180000.000000</td>\n",
       "      <td>192850.000000</td>\n",
       "      <td>-12850.000000</td>\n",
       "    </tr>\n",
       "    <tr>\n",
       "      <th>76000</th>\n",
       "      <td>01004_1_4</td>\n",
       "      <td>174625.000000</td>\n",
       "      <td>19</td>\n",
       "      <td>295318.000000</td>\n",
       "      <td>180000.000000</td>\n",
       "      <td>115318.000000</td>\n",
       "    </tr>\n",
       "    <tr>\n",
       "      <th>80750</th>\n",
       "      <td>01004_1_4</td>\n",
       "      <td>217600.000000</td>\n",
       "      <td>20</td>\n",
       "      <td>174625.000000</td>\n",
       "      <td>295318.000000</td>\n",
       "      <td>-120693.000000</td>\n",
       "    </tr>\n",
       "    <tr>\n",
       "      <th>85500</th>\n",
       "      <td>01004_1_4</td>\n",
       "      <td>359570.000000</td>\n",
       "      <td>21</td>\n",
       "      <td>217600.000000</td>\n",
       "      <td>174625.000000</td>\n",
       "      <td>42975.000000</td>\n",
       "    </tr>\n",
       "    <tr>\n",
       "      <th>90250</th>\n",
       "      <td>01004_1_4</td>\n",
       "      <td>195738.714286</td>\n",
       "      <td>22</td>\n",
       "      <td>359570.000000</td>\n",
       "      <td>217600.000000</td>\n",
       "      <td>141970.000000</td>\n",
       "    </tr>\n",
       "  </tbody>\n",
       "</table>\n",
       "</div>"
      ],
      "text/plain": [
       "         id_bien         valeur  mois       valeur-1       valeur-2  \\\n",
       "0      01004_1_4       0.000000     3  215000.000000  239000.000000   \n",
       "4750   01004_1_4  166590.000000     4       0.000000  215000.000000   \n",
       "9500   01004_1_4       0.000000     5  166590.000000       0.000000   \n",
       "14250  01004_1_4  100500.000000     6       0.000000  166590.000000   \n",
       "19000  01004_1_4  150000.000000     7  100500.000000       0.000000   \n",
       "23750  01004_1_4  177893.750000     8  150000.000000  100500.000000   \n",
       "28500  01004_1_4  188550.000000     9  177893.750000  150000.000000   \n",
       "33250  01004_1_4  200000.000000    10  188550.000000  177893.750000   \n",
       "38000  01004_1_4  193416.666667    11  200000.000000  188550.000000   \n",
       "42750  01004_1_4  102833.666667    12  193416.666667  200000.000000   \n",
       "47500  01004_1_4  147562.500000    13  102833.666667  193416.666667   \n",
       "52250  01004_1_4  151537.500000    14  147562.500000  102833.666667   \n",
       "57000  01004_1_4  188900.000000    15  151537.500000  147562.500000   \n",
       "61750  01004_1_4  192850.000000    16  188900.000000  151537.500000   \n",
       "66500  01004_1_4  180000.000000    17  192850.000000  188900.000000   \n",
       "71250  01004_1_4  295318.000000    18  180000.000000  192850.000000   \n",
       "76000  01004_1_4  174625.000000    19  295318.000000  180000.000000   \n",
       "80750  01004_1_4  217600.000000    20  174625.000000  295318.000000   \n",
       "85500  01004_1_4  359570.000000    21  217600.000000  174625.000000   \n",
       "90250  01004_1_4  195738.714286    22  359570.000000  217600.000000   \n",
       "\n",
       "       valeur_diff-1-2  \n",
       "0        -24000.000000  \n",
       "4750    -215000.000000  \n",
       "9500     166590.000000  \n",
       "14250   -166590.000000  \n",
       "19000    100500.000000  \n",
       "23750     49500.000000  \n",
       "28500     27893.750000  \n",
       "33250     10656.250000  \n",
       "38000     11450.000000  \n",
       "42750     -6583.333333  \n",
       "47500    -90583.000000  \n",
       "52250     44728.833333  \n",
       "57000      3975.000000  \n",
       "61750     37362.500000  \n",
       "66500      3950.000000  \n",
       "71250    -12850.000000  \n",
       "76000    115318.000000  \n",
       "80750   -120693.000000  \n",
       "85500     42975.000000  \n",
       "90250    141970.000000  "
      ]
     },
     "execution_count": 4,
     "metadata": {},
     "output_type": "execute_result"
    }
   ],
   "source": [
    "immo.sort_values(by=['id_bien','mois']).head(20)"
   ]
  },
  {
   "cell_type": "code",
   "execution_count": 5,
   "metadata": {},
   "outputs": [
    {
     "data": {
      "text/plain": [
       "(218500, 6)"
      ]
     },
     "execution_count": 5,
     "metadata": {},
     "output_type": "execute_result"
    }
   ],
   "source": [
    "immo.shape"
   ]
  },
  {
   "cell_type": "code",
   "execution_count": 6,
   "metadata": {},
   "outputs": [
    {
     "data": {
      "text/html": [
       "<div>\n",
       "<style scoped>\n",
       "    .dataframe tbody tr th:only-of-type {\n",
       "        vertical-align: middle;\n",
       "    }\n",
       "\n",
       "    .dataframe tbody tr th {\n",
       "        vertical-align: top;\n",
       "    }\n",
       "\n",
       "    .dataframe thead th {\n",
       "        text-align: right;\n",
       "    }\n",
       "</style>\n",
       "<table border=\"1\" class=\"dataframe\">\n",
       "  <thead>\n",
       "    <tr style=\"text-align: right;\">\n",
       "      <th></th>\n",
       "      <th>id_bien</th>\n",
       "      <th>valeur</th>\n",
       "      <th>mois</th>\n",
       "      <th>valeur-1</th>\n",
       "      <th>valeur-2</th>\n",
       "      <th>valeur_diff-1-2</th>\n",
       "    </tr>\n",
       "  </thead>\n",
       "  <tbody>\n",
       "    <tr>\n",
       "      <th>0</th>\n",
       "      <td>01004_1_4</td>\n",
       "      <td>0.000000</td>\n",
       "      <td>3</td>\n",
       "      <td>215000.00</td>\n",
       "      <td>239000.0</td>\n",
       "      <td>-24000.00</td>\n",
       "    </tr>\n",
       "    <tr>\n",
       "      <th>1</th>\n",
       "      <td>01004_1_5</td>\n",
       "      <td>130555.000000</td>\n",
       "      <td>3</td>\n",
       "      <td>217791.75</td>\n",
       "      <td>276000.0</td>\n",
       "      <td>-58208.25</td>\n",
       "    </tr>\n",
       "    <tr>\n",
       "      <th>2</th>\n",
       "      <td>01004_2_2</td>\n",
       "      <td>150000.000000</td>\n",
       "      <td>3</td>\n",
       "      <td>0.00</td>\n",
       "      <td>108212.5</td>\n",
       "      <td>-108212.50</td>\n",
       "    </tr>\n",
       "    <tr>\n",
       "      <th>3</th>\n",
       "      <td>01004_2_3</td>\n",
       "      <td>95975.000000</td>\n",
       "      <td>3</td>\n",
       "      <td>167500.00</td>\n",
       "      <td>142000.0</td>\n",
       "      <td>25500.00</td>\n",
       "    </tr>\n",
       "    <tr>\n",
       "      <th>4</th>\n",
       "      <td>01033_2_2</td>\n",
       "      <td>84666.666667</td>\n",
       "      <td>3</td>\n",
       "      <td>189000.00</td>\n",
       "      <td>114575.0</td>\n",
       "      <td>74425.00</td>\n",
       "    </tr>\n",
       "  </tbody>\n",
       "</table>\n",
       "</div>"
      ],
      "text/plain": [
       "     id_bien         valeur  mois   valeur-1  valeur-2  valeur_diff-1-2\n",
       "0  01004_1_4       0.000000     3  215000.00  239000.0        -24000.00\n",
       "1  01004_1_5  130555.000000     3  217791.75  276000.0        -58208.25\n",
       "2  01004_2_2  150000.000000     3       0.00  108212.5       -108212.50\n",
       "3  01004_2_3   95975.000000     3  167500.00  142000.0         25500.00\n",
       "4  01033_2_2   84666.666667     3  189000.00  114575.0         74425.00"
      ]
     },
     "execution_count": 6,
     "metadata": {},
     "output_type": "execute_result"
    }
   ],
   "source": [
    "immo.head()"
   ]
  },
  {
   "cell_type": "markdown",
   "metadata": {},
   "source": [
    "### Evaluating the result"
   ]
  },
  {
   "cell_type": "code",
   "execution_count": 7,
   "metadata": {},
   "outputs": [],
   "source": [
    "def rmsle(ytrue, ypred):\n",
    "    return np.sqrt(mean_squared_log_error(ytrue, ypred))"
   ]
  },
  {
   "cell_type": "markdown",
   "metadata": {},
   "source": [
    "### Setting a Baseline"
   ]
  },
  {
   "cell_type": "code",
   "execution_count": 8,
   "metadata": {},
   "outputs": [],
   "source": [
    "from sklearn.metrics import mean_squared_log_error"
   ]
  },
  {
   "cell_type": "code",
   "execution_count": 9,
   "metadata": {},
   "outputs": [
    {
     "name": "stdout",
     "output_type": "stream",
     "text": [
      "Week 30 - Error 3.20999\n",
      "Week 31 - Error 2.53821\n",
      "Week 32 - Error 3.12085\n",
      "Week 33 - Error 3.20956\n",
      "Week 34 - Error 2.89642\n",
      "Week 35 - Error 3.44560\n",
      "Week 36 - Error 3.22022\n",
      "Week 37 - Error 2.99002\n",
      "Week 38 - Error 3.43686\n",
      "Week 39 - Error 2.89105\n",
      "Week 40 - Error 2.68034\n",
      "Week 41 - Error 3.09954\n",
      "Week 42 - Error 2.64316\n",
      "Week 43 - Error 1.99355\n",
      "Week 44 - Error 2.84491\n",
      "Mean Error = 2.94802\n"
     ]
    }
   ],
   "source": [
    "mean_error = []\n",
    "for mois in range(30,45):\n",
    "    train = immo[immo['mois'] < mois]\n",
    "    val = immo[immo['mois'] == mois]\n",
    "    \n",
    "    p = val['valeur-1'].values\n",
    "    \n",
    "    error = rmsle(val['valeur'].values, p)\n",
    "    print('Week %d - Error %.5f' % (mois, error))\n",
    "    mean_error.append(error)\n",
    "print('Mean Error = %.5f' % np.mean(mean_error))"
   ]
  },
  {
   "cell_type": "markdown",
   "metadata": {},
   "source": [
    "### Creating the Model"
   ]
  },
  {
   "cell_type": "code",
   "execution_count": 10,
   "metadata": {},
   "outputs": [
    {
     "data": {
      "text/html": [
       "<div>\n",
       "<style scoped>\n",
       "    .dataframe tbody tr th:only-of-type {\n",
       "        vertical-align: middle;\n",
       "    }\n",
       "\n",
       "    .dataframe tbody tr th {\n",
       "        vertical-align: top;\n",
       "    }\n",
       "\n",
       "    .dataframe thead th {\n",
       "        text-align: right;\n",
       "    }\n",
       "</style>\n",
       "<table border=\"1\" class=\"dataframe\">\n",
       "  <thead>\n",
       "    <tr style=\"text-align: right;\">\n",
       "      <th></th>\n",
       "      <th>id_bien</th>\n",
       "      <th>valeur</th>\n",
       "      <th>mois</th>\n",
       "      <th>valeur-1</th>\n",
       "      <th>valeur-2</th>\n",
       "      <th>valeur_diff-1-2</th>\n",
       "    </tr>\n",
       "  </thead>\n",
       "  <tbody>\n",
       "    <tr>\n",
       "      <th>0</th>\n",
       "      <td>01004_1_4</td>\n",
       "      <td>0.000000</td>\n",
       "      <td>3</td>\n",
       "      <td>215000.00</td>\n",
       "      <td>239000.0</td>\n",
       "      <td>-24000.00</td>\n",
       "    </tr>\n",
       "    <tr>\n",
       "      <th>1</th>\n",
       "      <td>01004_1_5</td>\n",
       "      <td>130555.000000</td>\n",
       "      <td>3</td>\n",
       "      <td>217791.75</td>\n",
       "      <td>276000.0</td>\n",
       "      <td>-58208.25</td>\n",
       "    </tr>\n",
       "    <tr>\n",
       "      <th>2</th>\n",
       "      <td>01004_2_2</td>\n",
       "      <td>150000.000000</td>\n",
       "      <td>3</td>\n",
       "      <td>0.00</td>\n",
       "      <td>108212.5</td>\n",
       "      <td>-108212.50</td>\n",
       "    </tr>\n",
       "    <tr>\n",
       "      <th>3</th>\n",
       "      <td>01004_2_3</td>\n",
       "      <td>95975.000000</td>\n",
       "      <td>3</td>\n",
       "      <td>167500.00</td>\n",
       "      <td>142000.0</td>\n",
       "      <td>25500.00</td>\n",
       "    </tr>\n",
       "    <tr>\n",
       "      <th>4</th>\n",
       "      <td>01033_2_2</td>\n",
       "      <td>84666.666667</td>\n",
       "      <td>3</td>\n",
       "      <td>189000.00</td>\n",
       "      <td>114575.0</td>\n",
       "      <td>74425.00</td>\n",
       "    </tr>\n",
       "  </tbody>\n",
       "</table>\n",
       "</div>"
      ],
      "text/plain": [
       "     id_bien         valeur  mois   valeur-1  valeur-2  valeur_diff-1-2\n",
       "0  01004_1_4       0.000000     3  215000.00  239000.0        -24000.00\n",
       "1  01004_1_5  130555.000000     3  217791.75  276000.0        -58208.25\n",
       "2  01004_2_2  150000.000000     3       0.00  108212.5       -108212.50\n",
       "3  01004_2_3   95975.000000     3  167500.00  142000.0         25500.00\n",
       "4  01033_2_2   84666.666667     3  189000.00  114575.0         74425.00"
      ]
     },
     "execution_count": 10,
     "metadata": {},
     "output_type": "execute_result"
    }
   ],
   "source": [
    "immo.head()"
   ]
  },
  {
   "cell_type": "code",
   "execution_count": 11,
   "metadata": {},
   "outputs": [
    {
     "name": "stdout",
     "output_type": "stream",
     "text": [
      "Week 30 - Error 2.02722\n",
      "Week 31 - Error 1.76774\n",
      "Week 32 - Error 2.78303\n",
      "Week 33 - Error 1.92791\n",
      "Week 34 - Error 2.40824\n",
      "Week 35 - Error 2.76484\n",
      "Week 36 - Error 1.92475\n",
      "Week 37 - Error 2.59465\n",
      "Week 38 - Error 2.65752\n",
      "Week 39 - Error 1.74889\n",
      "Week 40 - Error 2.26068\n",
      "Week 41 - Error 2.37024\n",
      "Week 42 - Error 1.52298\n",
      "Week 43 - Error 1.54798\n",
      "Week 44 - Error 2.61270\n",
      "Mean Error = 2.19463\n"
     ]
    }
   ],
   "source": [
    "from sklearn.ensemble import RandomForestRegressor\n",
    "\n",
    "mean_error = []\n",
    "for mois in range(30,45):\n",
    "    train = immo[immo['mois'] < mois]\n",
    "    val = immo[immo['mois'] == mois]\n",
    "    \n",
    "    xtr, xts = train.drop(['valeur','id_bien'], axis=1), val.drop(['valeur','id_bien'], axis=1)\n",
    "    ytr, yts = train['valeur'].values, val['valeur'].values\n",
    "    \n",
    "    mdl = RandomForestRegressor(n_estimators=100, n_jobs=-1, random_state=0)\n",
    "    mdl.fit(xtr, ytr)\n",
    "    \n",
    "    p = mdl.predict(xts)\n",
    "    \n",
    "    error = rmsle(yts, p)\n",
    "    print('Week %d - Error %.5f' % (mois, error))\n",
    "    mean_error.append(error)\n",
    "print('Mean Error = %.5f' % np.mean(mean_error))\n",
    "\n"
   ]
  },
  {
   "cell_type": "code",
   "execution_count": null,
   "metadata": {},
   "outputs": [
    {
     "name": "stdout",
     "output_type": "stream",
     "text": [
      "Week 30 - Error 2.06031\n"
     ]
    }
   ],
   "source": [
    "from lightgbm import LGBMRegressor\n",
    "\n",
    "mean_error = []\n",
    "for mois in range(30,45):\n",
    "    train = immo[immo['mois'] < mois]\n",
    "    val = immo[immo['mois'] == mois]\n",
    "    \n",
    "    xtr, xts = train.drop(['valeur','id_bien'], axis=1), val.drop(['valeur','id_bien'], axis=1)\n",
    "    ytr, yts = train['valeur'].values, val['valeur'].values\n",
    "    \n",
    "    mdl = LGBMRegressor(n_estimators=1000, learning_rate=0.01)\n",
    "    mdl.fit(xtr, np.log1p(ytr))\n",
    "    \n",
    "    p = np.expm1(mdl.predict(xts))\n",
    "\n",
    "    \n",
    "    error = rmsle(yts, p)\n",
    "    print('Week %d - Error %.5f' % (mois, error))\n",
    "    mean_error.append(error)\n",
    "print('Mean Error = %.5f' % np.mean(mean_error))\n",
    "\n"
   ]
  },
  {
   "cell_type": "code",
   "execution_count": null,
   "metadata": {},
   "outputs": [],
   "source": []
  },
  {
   "cell_type": "code",
   "execution_count": 356,
   "metadata": {},
   "outputs": [
    {
     "data": {
      "text/html": [
       "<div>\n",
       "<style scoped>\n",
       "    .dataframe tbody tr th:only-of-type {\n",
       "        vertical-align: middle;\n",
       "    }\n",
       "\n",
       "    .dataframe tbody tr th {\n",
       "        vertical-align: top;\n",
       "    }\n",
       "\n",
       "    .dataframe thead th {\n",
       "        text-align: right;\n",
       "    }\n",
       "</style>\n",
       "<table border=\"1\" class=\"dataframe\">\n",
       "  <thead>\n",
       "    <tr style=\"text-align: right;\">\n",
       "      <th></th>\n",
       "      <th>id_bien</th>\n",
       "      <th>nb_mutation_2014</th>\n",
       "      <th>nb_mutation_2015</th>\n",
       "      <th>nb_mutation_2016</th>\n",
       "      <th>nb_mutation_2017</th>\n",
       "      <th>surface_2014</th>\n",
       "      <th>surface_2015</th>\n",
       "      <th>surface_2016</th>\n",
       "      <th>surface_2017</th>\n",
       "      <th>valeur_2014</th>\n",
       "      <th>valeur_2015</th>\n",
       "      <th>valeur_2016</th>\n",
       "      <th>valeur_2017</th>\n",
       "      <th>pop_2014</th>\n",
       "      <th>pop_2015</th>\n",
       "      <th>pop_2016</th>\n",
       "    </tr>\n",
       "  </thead>\n",
       "  <tbody>\n",
       "    <tr>\n",
       "      <th>0</th>\n",
       "      <td>10268_1_4</td>\n",
       "      <td>15</td>\n",
       "      <td>11</td>\n",
       "      <td>14</td>\n",
       "      <td>12</td>\n",
       "      <td>88</td>\n",
       "      <td>86</td>\n",
       "      <td>94</td>\n",
       "      <td>85</td>\n",
       "      <td>126139</td>\n",
       "      <td>131788</td>\n",
       "      <td>153442</td>\n",
       "      <td>133541</td>\n",
       "      <td>6099</td>\n",
       "      <td>6081</td>\n",
       "      <td>6092</td>\n",
       "    </tr>\n",
       "    <tr>\n",
       "      <th>1</th>\n",
       "      <td>10323_1_3</td>\n",
       "      <td>58</td>\n",
       "      <td>53</td>\n",
       "      <td>46</td>\n",
       "      <td>61</td>\n",
       "      <td>66</td>\n",
       "      <td>69</td>\n",
       "      <td>66</td>\n",
       "      <td>71</td>\n",
       "      <td>85131</td>\n",
       "      <td>70899</td>\n",
       "      <td>77799</td>\n",
       "      <td>69112</td>\n",
       "      <td>14617</td>\n",
       "      <td>14808</td>\n",
       "      <td>14783</td>\n",
       "    </tr>\n",
       "    <tr>\n",
       "      <th>2</th>\n",
       "      <td>10323_1_4</td>\n",
       "      <td>34</td>\n",
       "      <td>44</td>\n",
       "      <td>46</td>\n",
       "      <td>54</td>\n",
       "      <td>88</td>\n",
       "      <td>89</td>\n",
       "      <td>84</td>\n",
       "      <td>83</td>\n",
       "      <td>115841</td>\n",
       "      <td>100668</td>\n",
       "      <td>97592</td>\n",
       "      <td>111657</td>\n",
       "      <td>14617</td>\n",
       "      <td>14808</td>\n",
       "      <td>14783</td>\n",
       "    </tr>\n",
       "    <tr>\n",
       "      <th>3</th>\n",
       "      <td>10323_1_5</td>\n",
       "      <td>18</td>\n",
       "      <td>14</td>\n",
       "      <td>22</td>\n",
       "      <td>23</td>\n",
       "      <td>119</td>\n",
       "      <td>97</td>\n",
       "      <td>104</td>\n",
       "      <td>111</td>\n",
       "      <td>138056</td>\n",
       "      <td>101857</td>\n",
       "      <td>112113</td>\n",
       "      <td>116260</td>\n",
       "      <td>14617</td>\n",
       "      <td>14808</td>\n",
       "      <td>14783</td>\n",
       "    </tr>\n",
       "    <tr>\n",
       "      <th>4</th>\n",
       "      <td>10325_1_4</td>\n",
       "      <td>18</td>\n",
       "      <td>11</td>\n",
       "      <td>14</td>\n",
       "      <td>13</td>\n",
       "      <td>91</td>\n",
       "      <td>95</td>\n",
       "      <td>98</td>\n",
       "      <td>93</td>\n",
       "      <td>161920</td>\n",
       "      <td>171600</td>\n",
       "      <td>174245</td>\n",
       "      <td>182324</td>\n",
       "      <td>4178</td>\n",
       "      <td>4294</td>\n",
       "      <td>4409</td>\n",
       "    </tr>\n",
       "  </tbody>\n",
       "</table>\n",
       "</div>"
      ],
      "text/plain": [
       "     id_bien  nb_mutation_2014  nb_mutation_2015  nb_mutation_2016  \\\n",
       "0  10268_1_4                15                11                14   \n",
       "1  10323_1_3                58                53                46   \n",
       "2  10323_1_4                34                44                46   \n",
       "3  10323_1_5                18                14                22   \n",
       "4  10325_1_4                18                11                14   \n",
       "\n",
       "   nb_mutation_2017  surface_2014  surface_2015  surface_2016  surface_2017  \\\n",
       "0                12            88            86            94            85   \n",
       "1                61            66            69            66            71   \n",
       "2                54            88            89            84            83   \n",
       "3                23           119            97           104           111   \n",
       "4                13            91            95            98            93   \n",
       "\n",
       "   valeur_2014  valeur_2015  valeur_2016  valeur_2017  pop_2014  pop_2015  \\\n",
       "0       126139       131788       153442       133541      6099      6081   \n",
       "1        85131        70899        77799        69112     14617     14808   \n",
       "2       115841       100668        97592       111657     14617     14808   \n",
       "3       138056       101857       112113       116260     14617     14808   \n",
       "4       161920       171600       174245       182324      4178      4294   \n",
       "\n",
       "   pop_2016  \n",
       "0      6092  \n",
       "1     14783  \n",
       "2     14783  \n",
       "3     14783  \n",
       "4      4409  "
      ]
     },
     "execution_count": 356,
     "metadata": {},
     "output_type": "execute_result"
    }
   ],
   "source": [
    "immo = immo.drop(columns=['code_commune', 'nom_commune','type_local','code_type_local','nombre_pieces_principales'])\n",
    "immo.head()"
   ]
  },
  {
   "cell_type": "code",
   "execution_count": 357,
   "metadata": {},
   "outputs": [
    {
     "data": {
      "text/plain": [
       "(5812, 16)"
      ]
     },
     "execution_count": 357,
     "metadata": {},
     "output_type": "execute_result"
    }
   ],
   "source": [
    "immo.shape"
   ]
  },
  {
   "cell_type": "code",
   "execution_count": 358,
   "metadata": {},
   "outputs": [],
   "source": [
    "cols = immo.columns.values\n",
    "cols_to_remove = [\"nb_mutation\",\"surface\"]"
   ]
  },
  {
   "cell_type": "code",
   "execution_count": 359,
   "metadata": {},
   "outputs": [
    {
     "data": {
      "text/html": [
       "<div>\n",
       "<style scoped>\n",
       "    .dataframe tbody tr th:only-of-type {\n",
       "        vertical-align: middle;\n",
       "    }\n",
       "\n",
       "    .dataframe tbody tr th {\n",
       "        vertical-align: top;\n",
       "    }\n",
       "\n",
       "    .dataframe thead th {\n",
       "        text-align: right;\n",
       "    }\n",
       "</style>\n",
       "<table border=\"1\" class=\"dataframe\">\n",
       "  <thead>\n",
       "    <tr style=\"text-align: right;\">\n",
       "      <th></th>\n",
       "      <th>id_bien</th>\n",
       "      <th>valeur_2014</th>\n",
       "      <th>valeur_2015</th>\n",
       "      <th>valeur_2016</th>\n",
       "      <th>valeur_2017</th>\n",
       "      <th>pop_2014</th>\n",
       "      <th>pop_2015</th>\n",
       "      <th>pop_2016</th>\n",
       "    </tr>\n",
       "  </thead>\n",
       "  <tbody>\n",
       "    <tr>\n",
       "      <th>0</th>\n",
       "      <td>10268_1_4</td>\n",
       "      <td>126139</td>\n",
       "      <td>131788</td>\n",
       "      <td>153442</td>\n",
       "      <td>133541</td>\n",
       "      <td>6099</td>\n",
       "      <td>6081</td>\n",
       "      <td>6092</td>\n",
       "    </tr>\n",
       "    <tr>\n",
       "      <th>1</th>\n",
       "      <td>10323_1_3</td>\n",
       "      <td>85131</td>\n",
       "      <td>70899</td>\n",
       "      <td>77799</td>\n",
       "      <td>69112</td>\n",
       "      <td>14617</td>\n",
       "      <td>14808</td>\n",
       "      <td>14783</td>\n",
       "    </tr>\n",
       "    <tr>\n",
       "      <th>2</th>\n",
       "      <td>10323_1_4</td>\n",
       "      <td>115841</td>\n",
       "      <td>100668</td>\n",
       "      <td>97592</td>\n",
       "      <td>111657</td>\n",
       "      <td>14617</td>\n",
       "      <td>14808</td>\n",
       "      <td>14783</td>\n",
       "    </tr>\n",
       "    <tr>\n",
       "      <th>3</th>\n",
       "      <td>10323_1_5</td>\n",
       "      <td>138056</td>\n",
       "      <td>101857</td>\n",
       "      <td>112113</td>\n",
       "      <td>116260</td>\n",
       "      <td>14617</td>\n",
       "      <td>14808</td>\n",
       "      <td>14783</td>\n",
       "    </tr>\n",
       "    <tr>\n",
       "      <th>4</th>\n",
       "      <td>10325_1_4</td>\n",
       "      <td>161920</td>\n",
       "      <td>171600</td>\n",
       "      <td>174245</td>\n",
       "      <td>182324</td>\n",
       "      <td>4178</td>\n",
       "      <td>4294</td>\n",
       "      <td>4409</td>\n",
       "    </tr>\n",
       "  </tbody>\n",
       "</table>\n",
       "</div>"
      ],
      "text/plain": [
       "     id_bien  valeur_2014  valeur_2015  valeur_2016  valeur_2017  pop_2014  \\\n",
       "0  10268_1_4       126139       131788       153442       133541      6099   \n",
       "1  10323_1_3        85131        70899        77799        69112     14617   \n",
       "2  10323_1_4       115841       100668        97592       111657     14617   \n",
       "3  10323_1_5       138056       101857       112113       116260     14617   \n",
       "4  10325_1_4       161920       171600       174245       182324      4178   \n",
       "\n",
       "   pop_2015  pop_2016  \n",
       "0      6081      6092  \n",
       "1     14808     14783  \n",
       "2     14808     14783  \n",
       "3     14808     14783  \n",
       "4      4294      4409  "
      ]
     },
     "execution_count": 359,
     "metadata": {},
     "output_type": "execute_result"
    }
   ],
   "source": [
    "for col_to_remove in cols_to_remove:\n",
    "    for col in cols:\n",
    "        remove = col.startswith(col_to_remove)\n",
    "        if remove:\n",
    "            immo = immo.drop(columns = [col])\n",
    "immo.head()"
   ]
  },
  {
   "cell_type": "code",
   "execution_count": 360,
   "metadata": {},
   "outputs": [
    {
     "data": {
      "text/plain": [
       "(5812, 8)"
      ]
     },
     "execution_count": 360,
     "metadata": {},
     "output_type": "execute_result"
    }
   ],
   "source": [
    "immo.shape"
   ]
  },
  {
   "cell_type": "markdown",
   "metadata": {},
   "source": [
    "### Faire un dataset pour chaque variable"
   ]
  },
  {
   "cell_type": "code",
   "execution_count": 361,
   "metadata": {},
   "outputs": [],
   "source": [
    "cols_to_extract = ['valeur', 'pop']\n",
    "cols = immo.columns.values"
   ]
  },
  {
   "cell_type": "code",
   "execution_count": 362,
   "metadata": {},
   "outputs": [],
   "source": [
    "datasets = {}\n",
    "\n",
    "for col_to_extract in cols_to_extract:\n",
    "    extract = ['id_bien']\n",
    "    for col in cols:\n",
    "        if col.startswith(col_to_extract):\n",
    "            extract.append(col)\n",
    "    \n",
    "    datasets[col_to_extract] = immo[extract]\n",
    "    "
   ]
  },
  {
   "cell_type": "code",
   "execution_count": 363,
   "metadata": {},
   "outputs": [
    {
     "data": {
      "text/plain": [
       "17436"
      ]
     },
     "execution_count": 363,
     "metadata": {},
     "output_type": "execute_result"
    }
   ],
   "source": [
    "5812*3"
   ]
  },
  {
   "cell_type": "markdown",
   "metadata": {},
   "source": [
    "### Transformer chaque dataset en une série temp ( une ligne = une année par produit )"
   ]
  },
  {
   "cell_type": "code",
   "execution_count": 364,
   "metadata": {},
   "outputs": [],
   "source": [
    "for feature_family, dataset in datasets.items():\n",
    "    datasets[feature_family] = dataset.melt(id_vars='id_bien', var_name='year', value_name=feature_family) "
   ]
  },
  {
   "cell_type": "code",
   "execution_count": 365,
   "metadata": {},
   "outputs": [
    {
     "data": {
      "text/html": [
       "<div>\n",
       "<style scoped>\n",
       "    .dataframe tbody tr th:only-of-type {\n",
       "        vertical-align: middle;\n",
       "    }\n",
       "\n",
       "    .dataframe tbody tr th {\n",
       "        vertical-align: top;\n",
       "    }\n",
       "\n",
       "    .dataframe thead th {\n",
       "        text-align: right;\n",
       "    }\n",
       "</style>\n",
       "<table border=\"1\" class=\"dataframe\">\n",
       "  <thead>\n",
       "    <tr style=\"text-align: right;\">\n",
       "      <th></th>\n",
       "      <th>id_bien</th>\n",
       "      <th>year</th>\n",
       "      <th>valeur</th>\n",
       "    </tr>\n",
       "  </thead>\n",
       "  <tbody>\n",
       "    <tr>\n",
       "      <th>0</th>\n",
       "      <td>10268_1_4</td>\n",
       "      <td>valeur_2014</td>\n",
       "      <td>126139</td>\n",
       "    </tr>\n",
       "    <tr>\n",
       "      <th>5812</th>\n",
       "      <td>10268_1_4</td>\n",
       "      <td>valeur_2015</td>\n",
       "      <td>131788</td>\n",
       "    </tr>\n",
       "    <tr>\n",
       "      <th>11624</th>\n",
       "      <td>10268_1_4</td>\n",
       "      <td>valeur_2016</td>\n",
       "      <td>153442</td>\n",
       "    </tr>\n",
       "    <tr>\n",
       "      <th>17436</th>\n",
       "      <td>10268_1_4</td>\n",
       "      <td>valeur_2017</td>\n",
       "      <td>133541</td>\n",
       "    </tr>\n",
       "    <tr>\n",
       "      <th>1</th>\n",
       "      <td>10323_1_3</td>\n",
       "      <td>valeur_2014</td>\n",
       "      <td>85131</td>\n",
       "    </tr>\n",
       "  </tbody>\n",
       "</table>\n",
       "</div>"
      ],
      "text/plain": [
       "         id_bien         year  valeur\n",
       "0      10268_1_4  valeur_2014  126139\n",
       "5812   10268_1_4  valeur_2015  131788\n",
       "11624  10268_1_4  valeur_2016  153442\n",
       "17436  10268_1_4  valeur_2017  133541\n",
       "1      10323_1_3  valeur_2014   85131"
      ]
     },
     "execution_count": 365,
     "metadata": {},
     "output_type": "execute_result"
    }
   ],
   "source": [
    "datasets['valeur'].sort_values(by='id_bien').head()"
   ]
  },
  {
   "cell_type": "markdown",
   "metadata": {},
   "source": [
    "### Filter les années pour que chaque série soit donnée dispo sur la même période ( une série = une variable )"
   ]
  },
  {
   "cell_type": "code",
   "execution_count": 366,
   "metadata": {},
   "outputs": [],
   "source": [
    "years = ['2014','2015','2016']\n",
    "for feature_family, dataset in datasets.items():\n",
    "    dataset.loc[:,'year'] = dataset['year'].replace(feature_family + '_','',regex=True)\n",
    "    dataset = dataset[dataset.year.isin(years)]\n",
    "    datasets[feature_family] = dataset"
   ]
  },
  {
   "cell_type": "code",
   "execution_count": 367,
   "metadata": {},
   "outputs": [
    {
     "data": {
      "text/html": [
       "<div>\n",
       "<style scoped>\n",
       "    .dataframe tbody tr th:only-of-type {\n",
       "        vertical-align: middle;\n",
       "    }\n",
       "\n",
       "    .dataframe tbody tr th {\n",
       "        vertical-align: top;\n",
       "    }\n",
       "\n",
       "    .dataframe thead th {\n",
       "        text-align: right;\n",
       "    }\n",
       "</style>\n",
       "<table border=\"1\" class=\"dataframe\">\n",
       "  <thead>\n",
       "    <tr style=\"text-align: right;\">\n",
       "      <th></th>\n",
       "      <th>id_bien</th>\n",
       "      <th>year</th>\n",
       "      <th>valeur</th>\n",
       "    </tr>\n",
       "  </thead>\n",
       "  <tbody>\n",
       "    <tr>\n",
       "      <th>0</th>\n",
       "      <td>10268_1_4</td>\n",
       "      <td>2014</td>\n",
       "      <td>126139</td>\n",
       "    </tr>\n",
       "    <tr>\n",
       "      <th>1</th>\n",
       "      <td>10323_1_3</td>\n",
       "      <td>2014</td>\n",
       "      <td>85131</td>\n",
       "    </tr>\n",
       "    <tr>\n",
       "      <th>2</th>\n",
       "      <td>10323_1_4</td>\n",
       "      <td>2014</td>\n",
       "      <td>115841</td>\n",
       "    </tr>\n",
       "    <tr>\n",
       "      <th>3</th>\n",
       "      <td>10323_1_5</td>\n",
       "      <td>2014</td>\n",
       "      <td>138056</td>\n",
       "    </tr>\n",
       "    <tr>\n",
       "      <th>4</th>\n",
       "      <td>10325_1_4</td>\n",
       "      <td>2014</td>\n",
       "      <td>161920</td>\n",
       "    </tr>\n",
       "  </tbody>\n",
       "</table>\n",
       "</div>"
      ],
      "text/plain": [
       "     id_bien  year  valeur\n",
       "0  10268_1_4  2014  126139\n",
       "1  10323_1_3  2014   85131\n",
       "2  10323_1_4  2014  115841\n",
       "3  10323_1_5  2014  138056\n",
       "4  10325_1_4  2014  161920"
      ]
     },
     "execution_count": 367,
     "metadata": {},
     "output_type": "execute_result"
    }
   ],
   "source": [
    "datasets['valeur'].head()"
   ]
  },
  {
   "cell_type": "markdown",
   "metadata": {},
   "source": [
    "### Merger chaque série temporelle en un dataframe"
   ]
  },
  {
   "cell_type": "code",
   "execution_count": 418,
   "metadata": {},
   "outputs": [],
   "source": [
    "cp_datasets = datasets.copy() "
   ]
  },
  {
   "cell_type": "code",
   "execution_count": 419,
   "metadata": {},
   "outputs": [],
   "source": [
    "immo_serie = cp_datasets.popitem()[1]"
   ]
  },
  {
   "cell_type": "code",
   "execution_count": 420,
   "metadata": {},
   "outputs": [],
   "source": [
    "for dataset in cp_datasets.values():\n",
    "    immo_serie = pd.merge(immo_serie, dataset, on=['id_bien','year'], how='inner')"
   ]
  },
  {
   "cell_type": "code",
   "execution_count": 421,
   "metadata": {},
   "outputs": [
    {
     "data": {
      "text/html": [
       "<div>\n",
       "<style scoped>\n",
       "    .dataframe tbody tr th:only-of-type {\n",
       "        vertical-align: middle;\n",
       "    }\n",
       "\n",
       "    .dataframe tbody tr th {\n",
       "        vertical-align: top;\n",
       "    }\n",
       "\n",
       "    .dataframe thead th {\n",
       "        text-align: right;\n",
       "    }\n",
       "</style>\n",
       "<table border=\"1\" class=\"dataframe\">\n",
       "  <thead>\n",
       "    <tr style=\"text-align: right;\">\n",
       "      <th></th>\n",
       "      <th>id_bien</th>\n",
       "      <th>year</th>\n",
       "      <th>pop</th>\n",
       "      <th>valeur</th>\n",
       "    </tr>\n",
       "  </thead>\n",
       "  <tbody>\n",
       "    <tr>\n",
       "      <th>0</th>\n",
       "      <td>10268_1_4</td>\n",
       "      <td>2014</td>\n",
       "      <td>6099</td>\n",
       "      <td>126139</td>\n",
       "    </tr>\n",
       "    <tr>\n",
       "      <th>1</th>\n",
       "      <td>10323_1_3</td>\n",
       "      <td>2014</td>\n",
       "      <td>14617</td>\n",
       "      <td>85131</td>\n",
       "    </tr>\n",
       "    <tr>\n",
       "      <th>2</th>\n",
       "      <td>10323_1_4</td>\n",
       "      <td>2014</td>\n",
       "      <td>14617</td>\n",
       "      <td>115841</td>\n",
       "    </tr>\n",
       "    <tr>\n",
       "      <th>3</th>\n",
       "      <td>10323_1_5</td>\n",
       "      <td>2014</td>\n",
       "      <td>14617</td>\n",
       "      <td>138056</td>\n",
       "    </tr>\n",
       "    <tr>\n",
       "      <th>4</th>\n",
       "      <td>10325_1_4</td>\n",
       "      <td>2014</td>\n",
       "      <td>4178</td>\n",
       "      <td>161920</td>\n",
       "    </tr>\n",
       "  </tbody>\n",
       "</table>\n",
       "</div>"
      ],
      "text/plain": [
       "     id_bien  year    pop  valeur\n",
       "0  10268_1_4  2014   6099  126139\n",
       "1  10323_1_3  2014  14617   85131\n",
       "2  10323_1_4  2014  14617  115841\n",
       "3  10323_1_5  2014  14617  138056\n",
       "4  10325_1_4  2014   4178  161920"
      ]
     },
     "execution_count": 421,
     "metadata": {},
     "output_type": "execute_result"
    }
   ],
   "source": [
    "immo_serie.head()"
   ]
  },
  {
   "cell_type": "markdown",
   "metadata": {},
   "source": [
    "### Feature enginneering - ajout des variables observées à  t-1  ( lag1)"
   ]
  },
  {
   "cell_type": "code",
   "execution_count": 523,
   "metadata": {},
   "outputs": [],
   "source": [
    "immo_serie2 = immo_serie.copy()\n",
    "immo_serie2 = immo_serie2.sort_values(['year','id_bien'])"
   ]
  },
  {
   "cell_type": "code",
   "execution_count": 524,
   "metadata": {},
   "outputs": [],
   "source": [
    "lag1 = list(map(lambda x: x + \"-1\",cols_to_extract))"
   ]
  },
  {
   "cell_type": "code",
   "execution_count": 525,
   "metadata": {},
   "outputs": [],
   "source": [
    "immo_serie2[lag1] = immo_serie2.groupby(['id_bien'])[cols_to_extract].shift()"
   ]
  },
  {
   "cell_type": "markdown",
   "metadata": {},
   "source": [
    "### Feature enginneering - ajout des variables observées à  t-2  ( lag2 )"
   ]
  },
  {
   "cell_type": "code",
   "execution_count": 526,
   "metadata": {},
   "outputs": [],
   "source": [
    "lag2 = list(map(lambda x: x + \"-2\",cols_to_extract))"
   ]
  },
  {
   "cell_type": "code",
   "execution_count": 527,
   "metadata": {},
   "outputs": [],
   "source": [
    "immo_serie2[lag2] = immo_serie2.groupby(['id_bien'])[cols_to_extract].shift(2)"
   ]
  },
  {
   "cell_type": "markdown",
   "metadata": {},
   "source": [
    "### Feature enginneering - ajout des différences entre t-1 et -2 (diff1)"
   ]
  },
  {
   "cell_type": "code",
   "execution_count": 528,
   "metadata": {},
   "outputs": [],
   "source": [
    "diff1 = list(map(lambda x: x + \"_diff-1-2\",cols_to_extract))"
   ]
  },
  {
   "cell_type": "code",
   "execution_count": 529,
   "metadata": {},
   "outputs": [],
   "source": [
    "immo_serie2[diff1] = immo_serie2.groupby(['id_bien'])[lag1].diff()"
   ]
  },
  {
   "cell_type": "code",
   "execution_count": 530,
   "metadata": {},
   "outputs": [],
   "source": [
    "immo_serie2 = immo_serie2.dropna()"
   ]
  },
  {
   "cell_type": "code",
   "execution_count": 532,
   "metadata": {},
   "outputs": [
    {
     "data": {
      "text/html": [
       "<div>\n",
       "<style scoped>\n",
       "    .dataframe tbody tr th:only-of-type {\n",
       "        vertical-align: middle;\n",
       "    }\n",
       "\n",
       "    .dataframe tbody tr th {\n",
       "        vertical-align: top;\n",
       "    }\n",
       "\n",
       "    .dataframe thead th {\n",
       "        text-align: right;\n",
       "    }\n",
       "</style>\n",
       "<table border=\"1\" class=\"dataframe\">\n",
       "  <thead>\n",
       "    <tr style=\"text-align: right;\">\n",
       "      <th></th>\n",
       "      <th>id_bien</th>\n",
       "      <th>year</th>\n",
       "      <th>pop</th>\n",
       "      <th>valeur</th>\n",
       "      <th>valeur-1</th>\n",
       "      <th>pop-1</th>\n",
       "      <th>valeur-2</th>\n",
       "      <th>pop-2</th>\n",
       "      <th>valeur_diff-1-2</th>\n",
       "      <th>pop_diff-1-2</th>\n",
       "    </tr>\n",
       "  </thead>\n",
       "  <tbody>\n",
       "    <tr>\n",
       "      <th>11624</th>\n",
       "      <td>10268_1_4</td>\n",
       "      <td>2016</td>\n",
       "      <td>6092</td>\n",
       "      <td>153442</td>\n",
       "      <td>131788.0</td>\n",
       "      <td>6081.0</td>\n",
       "      <td>126139.0</td>\n",
       "      <td>6099.0</td>\n",
       "      <td>5649.0</td>\n",
       "      <td>-18.0</td>\n",
       "    </tr>\n",
       "    <tr>\n",
       "      <th>11625</th>\n",
       "      <td>10323_1_3</td>\n",
       "      <td>2016</td>\n",
       "      <td>14783</td>\n",
       "      <td>77799</td>\n",
       "      <td>70899.0</td>\n",
       "      <td>14808.0</td>\n",
       "      <td>85131.0</td>\n",
       "      <td>14617.0</td>\n",
       "      <td>-14232.0</td>\n",
       "      <td>191.0</td>\n",
       "    </tr>\n",
       "    <tr>\n",
       "      <th>11626</th>\n",
       "      <td>10323_1_4</td>\n",
       "      <td>2016</td>\n",
       "      <td>14783</td>\n",
       "      <td>97592</td>\n",
       "      <td>100668.0</td>\n",
       "      <td>14808.0</td>\n",
       "      <td>115841.0</td>\n",
       "      <td>14617.0</td>\n",
       "      <td>-15173.0</td>\n",
       "      <td>191.0</td>\n",
       "    </tr>\n",
       "    <tr>\n",
       "      <th>11627</th>\n",
       "      <td>10323_1_5</td>\n",
       "      <td>2016</td>\n",
       "      <td>14783</td>\n",
       "      <td>112113</td>\n",
       "      <td>101857.0</td>\n",
       "      <td>14808.0</td>\n",
       "      <td>138056.0</td>\n",
       "      <td>14617.0</td>\n",
       "      <td>-36199.0</td>\n",
       "      <td>191.0</td>\n",
       "    </tr>\n",
       "    <tr>\n",
       "      <th>11628</th>\n",
       "      <td>10325_1_4</td>\n",
       "      <td>2016</td>\n",
       "      <td>4409</td>\n",
       "      <td>174245</td>\n",
       "      <td>171600.0</td>\n",
       "      <td>4294.0</td>\n",
       "      <td>161920.0</td>\n",
       "      <td>4178.0</td>\n",
       "      <td>9680.0</td>\n",
       "      <td>116.0</td>\n",
       "    </tr>\n",
       "  </tbody>\n",
       "</table>\n",
       "</div>"
      ],
      "text/plain": [
       "         id_bien  year    pop  valeur  valeur-1    pop-1  valeur-2    pop-2  \\\n",
       "11624  10268_1_4  2016   6092  153442  131788.0   6081.0  126139.0   6099.0   \n",
       "11625  10323_1_3  2016  14783   77799   70899.0  14808.0   85131.0  14617.0   \n",
       "11626  10323_1_4  2016  14783   97592  100668.0  14808.0  115841.0  14617.0   \n",
       "11627  10323_1_5  2016  14783  112113  101857.0  14808.0  138056.0  14617.0   \n",
       "11628  10325_1_4  2016   4409  174245  171600.0   4294.0  161920.0   4178.0   \n",
       "\n",
       "       valeur_diff-1-2  pop_diff-1-2  \n",
       "11624           5649.0         -18.0  \n",
       "11625         -14232.0         191.0  \n",
       "11626         -15173.0         191.0  \n",
       "11627         -36199.0         191.0  \n",
       "11628           9680.0         116.0  "
      ]
     },
     "execution_count": 532,
     "metadata": {},
     "output_type": "execute_result"
    }
   ],
   "source": [
    "immo_serie2.sort_values(by='id_bien').head()"
   ]
  },
  {
   "cell_type": "code",
   "execution_count": 533,
   "metadata": {},
   "outputs": [
    {
     "data": {
      "text/plain": [
       "(5812, 10)"
      ]
     },
     "execution_count": 533,
     "metadata": {},
     "output_type": "execute_result"
    }
   ],
   "source": [
    "immo_serie2.shape"
   ]
  },
  {
   "cell_type": "markdown",
   "metadata": {},
   "source": [
    "### Export"
   ]
  },
  {
   "cell_type": "code",
   "execution_count": 534,
   "metadata": {},
   "outputs": [],
   "source": [
    "immo_serie2.to_csv('../../data/ml/serie_immo_pop.csv',index=False)"
   ]
  },
  {
   "cell_type": "code",
   "execution_count": null,
   "metadata": {},
   "outputs": [],
   "source": []
  }
 ],
 "metadata": {
  "kernelspec": {
   "display_name": "Python 3",
   "language": "python",
   "name": "python3"
  },
  "language_info": {
   "codemirror_mode": {
    "name": "ipython",
    "version": 3
   },
   "file_extension": ".py",
   "mimetype": "text/x-python",
   "name": "python",
   "nbconvert_exporter": "python",
   "pygments_lexer": "ipython3",
   "version": "3.7.3"
  }
 },
 "nbformat": 4,
 "nbformat_minor": 2
}
